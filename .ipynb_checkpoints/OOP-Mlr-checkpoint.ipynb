{
 "cells": [
  {
   "cell_type": "markdown",
   "metadata": {},
   "source": [
    "## Multi-linear Regression\n",
    "\n",
    "Multi-linear Regression is a statistical technique that uses several explanatory variables to predict the outcome of a response variable. The goal of multiple linear regression (MLR) is to model the linear relationship between the explanatory (independent) variables and response (dependent) variable. It is used to determine a mathematical relationship among a number of random variables. In other terms, MLR examines how multiple independent variables are related to one dependent variable. Once each of the independent factors has been determined to predict the dependent variable, the information on the multiple variables can be used to create an accurate prediction on the level of effect they have on the outcome variable. The model creates a relationship in the form of a straight line (linear) that best approximates all the individual data points.\n",
    "\n"
   ]
  },
  {
   "cell_type": "markdown",
   "metadata": {},
   "source": [
    "#### Importing Packages"
   ]
  },
  {
   "cell_type": "code",
   "execution_count": 1,
   "metadata": {},
   "outputs": [],
   "source": [
    "import pandas as pd\n",
    "import numpy as np\n",
    "import matplotlib.pyplot as plt\n",
    "from pandas.plotting import scatter_matrix\n",
    "import seaborn as sns\n",
    "import sklearn\n",
    "from sklearn.model_selection import train_test_split\n",
    "from sklearn.linear_model import LinearRegression\n",
    "import statsmodels.api as sm\n",
    "import scipy.stats as scipy\n",
    "from scipy.stats import pearsonr\n",
    "from sklearn.preprocessing import StandardScaler\n",
    "from sklearn.metrics import mean_squared_error\n",
    "from math import sqrt\n",
    "from statistics import mean,stdev\n",
    "# from yellowbrick.datasets import load_concrete\n",
    "# from yellowbrick.regressor import ResidualsPlot"
   ]
  },
  {
   "cell_type": "code",
   "execution_count": 2,
   "metadata": {},
   "outputs": [],
   "source": [
    "#importing data\n",
    "df = pd.read_csv('data/salary.csv')"
   ]
  },
  {
   "cell_type": "code",
   "execution_count": 3,
   "metadata": {},
   "outputs": [
    {
     "name": "stdout",
     "output_type": "stream",
     "text": [
      "Number of missing values:  1\n"
     ]
    }
   ],
   "source": [
    "#Checking for missing values\n",
    "value = df.isnull().sum().sum()\n",
    "print('Number of missing values: ',value)"
   ]
  },
  {
   "cell_type": "markdown",
   "metadata": {},
   "source": [
    "- There is only one missing value in salary"
   ]
  },
  {
   "cell_type": "code",
   "execution_count": 4,
   "metadata": {},
   "outputs": [],
   "source": [
    "#filling in the missing values\n",
    "df['salary'].fillna(df['salary'].mean(),inplace = True)"
   ]
  },
  {
   "cell_type": "markdown",
   "metadata": {},
   "source": [
    "- Filling the missing value in salary with the mean of salary because maybe we might need that data"
   ]
  },
  {
   "cell_type": "markdown",
   "metadata": {},
   "source": [
    "### 1. Split your data into a training and test set. Create scatterplots, histograms, and a descriptive statistics table of the variables of interest. Do any of the variables need to be transformed to be able to use them in a linear regression model? Which variables seem like good predictors of salary?"
   ]
  },
  {
   "cell_type": "code",
   "execution_count": 5,
   "metadata": {},
   "outputs": [
    {
     "data": {
      "text/html": [
       "<div>\n",
       "<style scoped>\n",
       "    .dataframe tbody tr th:only-of-type {\n",
       "        vertical-align: middle;\n",
       "    }\n",
       "\n",
       "    .dataframe tbody tr th {\n",
       "        vertical-align: top;\n",
       "    }\n",
       "\n",
       "    .dataframe thead th {\n",
       "        text-align: right;\n",
       "    }\n",
       "</style>\n",
       "<table border=\"1\" class=\"dataframe\">\n",
       "  <thead>\n",
       "    <tr style=\"text-align: right;\">\n",
       "      <th></th>\n",
       "      <th>salary</th>\n",
       "      <th>exprior</th>\n",
       "      <th>yearsworked</th>\n",
       "      <th>yearsrank</th>\n",
       "      <th>market</th>\n",
       "      <th>degree</th>\n",
       "      <th>otherqual</th>\n",
       "      <th>position</th>\n",
       "      <th>male</th>\n",
       "      <th>Field</th>\n",
       "      <th>yearsabs</th>\n",
       "    </tr>\n",
       "  </thead>\n",
       "  <tbody>\n",
       "    <tr>\n",
       "      <th>salary</th>\n",
       "      <td>1.000000</td>\n",
       "      <td>0.119946</td>\n",
       "      <td>0.623135</td>\n",
       "      <td>0.610580</td>\n",
       "      <td>0.407208</td>\n",
       "      <td>0.044552</td>\n",
       "      <td>0.167129</td>\n",
       "      <td>0.701354</td>\n",
       "      <td>0.361447</td>\n",
       "      <td>-0.498485</td>\n",
       "      <td>-0.069622</td>\n",
       "    </tr>\n",
       "    <tr>\n",
       "      <th>position</th>\n",
       "      <td>0.701354</td>\n",
       "      <td>0.116596</td>\n",
       "      <td>0.746736</td>\n",
       "      <td>0.485210</td>\n",
       "      <td>-0.013358</td>\n",
       "      <td>0.043680</td>\n",
       "      <td>0.160311</td>\n",
       "      <td>1.000000</td>\n",
       "      <td>0.318129</td>\n",
       "      <td>-0.288812</td>\n",
       "      <td>0.029751</td>\n",
       "    </tr>\n",
       "    <tr>\n",
       "      <th>yearsworked</th>\n",
       "      <td>0.623135</td>\n",
       "      <td>-0.246549</td>\n",
       "      <td>1.000000</td>\n",
       "      <td>0.813471</td>\n",
       "      <td>-0.070896</td>\n",
       "      <td>0.028421</td>\n",
       "      <td>-0.040490</td>\n",
       "      <td>0.746736</td>\n",
       "      <td>0.278963</td>\n",
       "      <td>-0.261379</td>\n",
       "      <td>0.055468</td>\n",
       "    </tr>\n",
       "    <tr>\n",
       "      <th>yearsrank</th>\n",
       "      <td>0.610580</td>\n",
       "      <td>-0.066403</td>\n",
       "      <td>0.813471</td>\n",
       "      <td>1.000000</td>\n",
       "      <td>-0.026975</td>\n",
       "      <td>0.006516</td>\n",
       "      <td>0.007036</td>\n",
       "      <td>0.485210</td>\n",
       "      <td>0.237787</td>\n",
       "      <td>-0.263953</td>\n",
       "      <td>0.035632</td>\n",
       "    </tr>\n",
       "    <tr>\n",
       "      <th>Field</th>\n",
       "      <td>-0.498485</td>\n",
       "      <td>-0.048315</td>\n",
       "      <td>-0.261379</td>\n",
       "      <td>-0.263953</td>\n",
       "      <td>-0.223827</td>\n",
       "      <td>-0.098424</td>\n",
       "      <td>-0.076623</td>\n",
       "      <td>-0.288812</td>\n",
       "      <td>-0.128874</td>\n",
       "      <td>1.000000</td>\n",
       "      <td>-0.000127</td>\n",
       "    </tr>\n",
       "  </tbody>\n",
       "</table>\n",
       "</div>"
      ],
      "text/plain": [
       "               salary   exprior  yearsworked  yearsrank    market    degree  \\\n",
       "salary       1.000000  0.119946     0.623135   0.610580  0.407208  0.044552   \n",
       "position     0.701354  0.116596     0.746736   0.485210 -0.013358  0.043680   \n",
       "yearsworked  0.623135 -0.246549     1.000000   0.813471 -0.070896  0.028421   \n",
       "yearsrank    0.610580 -0.066403     0.813471   1.000000 -0.026975  0.006516   \n",
       "Field       -0.498485 -0.048315    -0.261379  -0.263953 -0.223827 -0.098424   \n",
       "\n",
       "             otherqual  position      male     Field  yearsabs  \n",
       "salary        0.167129  0.701354  0.361447 -0.498485 -0.069622  \n",
       "position      0.160311  1.000000  0.318129 -0.288812  0.029751  \n",
       "yearsworked  -0.040490  0.746736  0.278963 -0.261379  0.055468  \n",
       "yearsrank     0.007036  0.485210  0.237787 -0.263953  0.035632  \n",
       "Field        -0.076623 -0.288812 -0.128874  1.000000 -0.000127  "
      ]
     },
     "execution_count": 5,
     "metadata": {},
     "output_type": "execute_result"
    }
   ],
   "source": [
    "# checking features with strong correllation\n",
    "df2 = df.corr()[abs(df.corr()[\"salary\"]) > 0.45].sort_values(by=[\"salary\"], ascending=False)\n",
    "df2"
   ]
  },
  {
   "cell_type": "markdown",
   "metadata": {},
   "source": [
    "- By observing the above DataFrame we see a correlation in some of the features which are:\n",
    "    - Position\n",
    "    - Yearsrank\n",
    "    - Yearsworked\n",
    "    - Field\n",
    "    \n",
    "Of which they highly correllated with our dependant variable."
   ]
  },
  {
   "cell_type": "code",
   "execution_count": 6,
   "metadata": {},
   "outputs": [
    {
     "data": {
      "image/png": "[encoded data removed]",
      "text/plain": [
       "<Figure size 720x360 with 2 Axes>"
      ]
     },
     "metadata": {
      "needs_background": "light"
     },
     "output_type": "display_data"
    }
   ],
   "source": [
    "#correllation heatmap\n",
    "plt.figure(figsize=(10,5))\n",
    "sns.heatmap(df2)\n",
    "plt.title('Correlation Heatmap', weight='bold', fontsize=16)\n",
    "plt.show()"
   ]
  },
  {
   "cell_type": "markdown",
   "metadata": {},
   "source": [
    "####  Descriptive statistics table of the variables of interest "
   ]
  },
  {
   "cell_type": "code",
   "execution_count": 7,
   "metadata": {},
   "outputs": [
    {
     "data": {
      "text/html": [
       "<div>\n",
       "<style scoped>\n",
       "    .dataframe tbody tr th:only-of-type {\n",
       "        vertical-align: middle;\n",
       "    }\n",
       "\n",
       "    .dataframe tbody tr th {\n",
       "        vertical-align: top;\n",
       "    }\n",
       "\n",
       "    .dataframe thead th {\n",
       "        text-align: right;\n",
       "    }\n",
       "</style>\n",
       "<table border=\"1\" class=\"dataframe\">\n",
       "  <thead>\n",
       "    <tr style=\"text-align: right;\">\n",
       "      <th></th>\n",
       "      <th>salary</th>\n",
       "      <th>yearsworked</th>\n",
       "      <th>yearsrank</th>\n",
       "      <th>position</th>\n",
       "      <th>Field</th>\n",
       "    </tr>\n",
       "  </thead>\n",
       "  <tbody>\n",
       "    <tr>\n",
       "      <th>count</th>\n",
       "      <td>514.000000</td>\n",
       "      <td>514.000000</td>\n",
       "      <td>514.000000</td>\n",
       "      <td>514.000000</td>\n",
       "      <td>514.000000</td>\n",
       "    </tr>\n",
       "    <tr>\n",
       "      <th>mean</th>\n",
       "      <td>50863.220098</td>\n",
       "      <td>12.852140</td>\n",
       "      <td>7.052529</td>\n",
       "      <td>2.132296</td>\n",
       "      <td>2.529183</td>\n",
       "    </tr>\n",
       "    <tr>\n",
       "      <th>std</th>\n",
       "      <td>12672.762650</td>\n",
       "      <td>9.444695</td>\n",
       "      <td>6.414771</td>\n",
       "      <td>0.820075</td>\n",
       "      <td>1.127420</td>\n",
       "    </tr>\n",
       "    <tr>\n",
       "      <th>min</th>\n",
       "      <td>29000.000000</td>\n",
       "      <td>0.000000</td>\n",
       "      <td>0.000000</td>\n",
       "      <td>1.000000</td>\n",
       "      <td>1.000000</td>\n",
       "    </tr>\n",
       "    <tr>\n",
       "      <th>25%</th>\n",
       "      <td>40000.000000</td>\n",
       "      <td>4.000000</td>\n",
       "      <td>2.000000</td>\n",
       "      <td>1.000000</td>\n",
       "      <td>2.000000</td>\n",
       "    </tr>\n",
       "    <tr>\n",
       "      <th>50%</th>\n",
       "      <td>50165.500000</td>\n",
       "      <td>12.000000</td>\n",
       "      <td>5.000000</td>\n",
       "      <td>2.000000</td>\n",
       "      <td>3.000000</td>\n",
       "    </tr>\n",
       "    <tr>\n",
       "      <th>75%</th>\n",
       "      <td>60306.250000</td>\n",
       "      <td>22.000000</td>\n",
       "      <td>12.000000</td>\n",
       "      <td>3.000000</td>\n",
       "      <td>4.000000</td>\n",
       "    </tr>\n",
       "    <tr>\n",
       "      <th>max</th>\n",
       "      <td>96156.000000</td>\n",
       "      <td>41.000000</td>\n",
       "      <td>28.000000</td>\n",
       "      <td>3.000000</td>\n",
       "      <td>4.000000</td>\n",
       "    </tr>\n",
       "  </tbody>\n",
       "</table>\n",
       "</div>"
      ],
      "text/plain": [
       "             salary  yearsworked   yearsrank    position       Field\n",
       "count    514.000000   514.000000  514.000000  514.000000  514.000000\n",
       "mean   50863.220098    12.852140    7.052529    2.132296    2.529183\n",
       "std    12672.762650     9.444695    6.414771    0.820075    1.127420\n",
       "min    29000.000000     0.000000    0.000000    1.000000    1.000000\n",
       "25%    40000.000000     4.000000    2.000000    1.000000    2.000000\n",
       "50%    50165.500000    12.000000    5.000000    2.000000    3.000000\n",
       "75%    60306.250000    22.000000   12.000000    3.000000    4.000000\n",
       "max    96156.000000    41.000000   28.000000    3.000000    4.000000"
      ]
     },
     "execution_count": 7,
     "metadata": {},
     "output_type": "execute_result"
    }
   ],
   "source": [
    "#descriptive statistics\n",
    "df3 = df[['salary','yearsworked','yearsrank','position','Field']].describe()\n",
    "df3"
   ]
  },
  {
   "cell_type": "markdown",
   "metadata": {},
   "source": [
    "#### Histogram of features of interest"
   ]
  },
  {
   "cell_type": "code",
   "execution_count": 8,
   "metadata": {},
   "outputs": [
    {
     "data": {
      "image/png": "[encoded data removed]",
      "text/plain": [
       "<Figure size 720x720 with 4 Axes>"
      ]
     },
     "metadata": {},
     "output_type": "display_data"
    }
   ],
   "source": [
    "sns.set()\n",
    "f, axes = plt.subplots(1, 2,figsize=(10, 10))\n",
    "grid = plt.GridSpec(2, 3, wspace=0.4, hspace=0.3)\n",
    "plt.subplot(grid[0, 0])\n",
    "plt.hist(df.yearsworked, bins=20)\n",
    "plt.title('Yearsworked', weight='bold', fontsize=16)\n",
    "\n",
    "plt.subplot(grid[0, 1:])\n",
    "plt.hist(df.salary, bins=20)\n",
    "plt.title('Salary', weight='bold', fontsize=16)\n",
    "\n",
    "plt.subplot(grid[1, :2])\n",
    "plt.hist(df.yearsrank, bins=20)\n",
    "plt.title('Yearsrank', weight='bold', fontsize=16)\n",
    "\n",
    "plt.subplot(grid[1, 2])\n",
    "plt.hist(df.position, bins=20)\n",
    "plt.title('Position', weight='bold', fontsize=16)\n",
    "plt.show()"
   ]
  },
  {
   "cell_type": "markdown",
   "metadata": {},
   "source": [
    "##### Salary\n",
    "- it is skewed to the right\n",
    "- Majority of the people earn between 35000 dollars & 60000 dollars\n",
    "\n",
    "##### Years worked\n",
    "- There are possible outliers \n",
    "- it is skewed to the right\n",
    "\n",
    "##### Yearsrank\n",
    "- It is skewed to the right\n",
    "- There are possible outliers\n",
    "- A handful of people have worked at the current rank for years between 0 & 5 years.\n"
   ]
  },
  {
   "cell_type": "code",
   "execution_count": 9,
   "metadata": {},
   "outputs": [
    {
     "data": {
      "text/plain": [
       "<Figure size 360x360 with 0 Axes>"
      ]
     },
     "metadata": {},
     "output_type": "display_data"
    },
    {
     "data": {
      "image/png": "[encoded data removed]",
      "text/plain": [
       "<Figure size 1411.2x504 with 4 Axes>"
      ]
     },
     "metadata": {},
     "output_type": "display_data"
    }
   ],
   "source": [
    "plt.figure(figsize=(5,5))\n",
    "sns.pairplot(df, x_vars=['salary','yearsworked','yearsrank','position'],\n",
    "             y_vars='salary',height=7, aspect=0.7, kind='scatter')\n",
    "plt.show()"
   ]
  },
  {
   "cell_type": "markdown",
   "metadata": {},
   "source": [
    "#### - One-hot encode the variable Field into three dummy variables, using HR as the reference category. You can use pandas’ get_dummies() function for this."
   ]
  },
  {
   "cell_type": "code",
   "execution_count": 10,
   "metadata": {},
   "outputs": [
    {
     "data": {
      "text/html": [
       "<div>\n",
       "<style scoped>\n",
       "    .dataframe tbody tr th:only-of-type {\n",
       "        vertical-align: middle;\n",
       "    }\n",
       "\n",
       "    .dataframe tbody tr th {\n",
       "        vertical-align: top;\n",
       "    }\n",
       "\n",
       "    .dataframe thead th {\n",
       "        text-align: right;\n",
       "    }\n",
       "</style>\n",
       "<table border=\"1\" class=\"dataframe\">\n",
       "  <thead>\n",
       "    <tr style=\"text-align: right;\">\n",
       "      <th></th>\n",
       "      <th>salary</th>\n",
       "      <th>exprior</th>\n",
       "      <th>yearsworked</th>\n",
       "      <th>yearsrank</th>\n",
       "      <th>market</th>\n",
       "      <th>degree</th>\n",
       "      <th>otherqual</th>\n",
       "      <th>position</th>\n",
       "      <th>male</th>\n",
       "      <th>yearsabs</th>\n",
       "      <th>Engineering</th>\n",
       "      <th>Finance</th>\n",
       "      <th>HR</th>\n",
       "      <th>Marketing</th>\n",
       "    </tr>\n",
       "  </thead>\n",
       "  <tbody>\n",
       "    <tr>\n",
       "      <th>0</th>\n",
       "      <td>53000.0</td>\n",
       "      <td>0</td>\n",
       "      <td>0</td>\n",
       "      <td>0</td>\n",
       "      <td>1.17</td>\n",
       "      <td>1</td>\n",
       "      <td>0</td>\n",
       "      <td>1</td>\n",
       "      <td>1</td>\n",
       "      <td>0</td>\n",
       "      <td>0</td>\n",
       "      <td>0</td>\n",
       "      <td>1</td>\n",
       "      <td>0</td>\n",
       "    </tr>\n",
       "    <tr>\n",
       "      <th>1</th>\n",
       "      <td>58000.0</td>\n",
       "      <td>1</td>\n",
       "      <td>0</td>\n",
       "      <td>0</td>\n",
       "      <td>1.24</td>\n",
       "      <td>1</td>\n",
       "      <td>0</td>\n",
       "      <td>1</td>\n",
       "      <td>1</td>\n",
       "      <td>0</td>\n",
       "      <td>0</td>\n",
       "      <td>1</td>\n",
       "      <td>0</td>\n",
       "      <td>0</td>\n",
       "    </tr>\n",
       "    <tr>\n",
       "      <th>2</th>\n",
       "      <td>45500.0</td>\n",
       "      <td>0</td>\n",
       "      <td>0</td>\n",
       "      <td>0</td>\n",
       "      <td>1.21</td>\n",
       "      <td>1</td>\n",
       "      <td>0</td>\n",
       "      <td>1</td>\n",
       "      <td>1</td>\n",
       "      <td>2</td>\n",
       "      <td>0</td>\n",
       "      <td>0</td>\n",
       "      <td>1</td>\n",
       "      <td>0</td>\n",
       "    </tr>\n",
       "    <tr>\n",
       "      <th>3</th>\n",
       "      <td>35782.0</td>\n",
       "      <td>0</td>\n",
       "      <td>2</td>\n",
       "      <td>1</td>\n",
       "      <td>0.99</td>\n",
       "      <td>1</td>\n",
       "      <td>0</td>\n",
       "      <td>1</td>\n",
       "      <td>1</td>\n",
       "      <td>1</td>\n",
       "      <td>0</td>\n",
       "      <td>0</td>\n",
       "      <td>0</td>\n",
       "      <td>1</td>\n",
       "    </tr>\n",
       "    <tr>\n",
       "      <th>4</th>\n",
       "      <td>34731.0</td>\n",
       "      <td>0</td>\n",
       "      <td>2</td>\n",
       "      <td>2</td>\n",
       "      <td>0.91</td>\n",
       "      <td>1</td>\n",
       "      <td>0</td>\n",
       "      <td>1</td>\n",
       "      <td>1</td>\n",
       "      <td>1</td>\n",
       "      <td>0</td>\n",
       "      <td>0</td>\n",
       "      <td>0</td>\n",
       "      <td>1</td>\n",
       "    </tr>\n",
       "  </tbody>\n",
       "</table>\n",
       "</div>"
      ],
      "text/plain": [
       "    salary  exprior  yearsworked  yearsrank  market  degree  otherqual  \\\n",
       "0  53000.0        0            0          0    1.17       1          0   \n",
       "1  58000.0        1            0          0    1.24       1          0   \n",
       "2  45500.0        0            0          0    1.21       1          0   \n",
       "3  35782.0        0            2          1    0.99       1          0   \n",
       "4  34731.0        0            2          2    0.91       1          0   \n",
       "\n",
       "   position  male  yearsabs  Engineering  Finance  HR  Marketing  \n",
       "0         1     1         0            0        0   1          0  \n",
       "1         1     1         0            0        1   0          0  \n",
       "2         1     1         2            0        0   1          0  \n",
       "3         1     1         1            0        0   0          1  \n",
       "4         1     1         1            0        0   0          1  "
      ]
     },
     "execution_count": 10,
     "metadata": {},
     "output_type": "execute_result"
    }
   ],
   "source": [
    "dummies = pd.get_dummies(df['Field'])\n",
    "# dummies.drop(3, inplace=True, axis=1)\n",
    "\n",
    "new = dummies.rename(columns={1:'Engineering',2:'Finance',3:'HR',4:'Marketing'})\n",
    "\n",
    "df4 = pd.concat([df, new] ,axis=1, ignore_index=False)\n",
    "df4.drop(\"Field\", inplace=True, axis=1)\n",
    "df4.head()"
   ]
  },
  {
   "cell_type": "markdown",
   "metadata": {},
   "source": [
    "#### - Produce a correlation matrix comparing the relationship of salary to the predictor variables. Is there any multicollinearity or other problems that may be a problem in the multiple regression?"
   ]
  },
  {
   "cell_type": "code",
   "execution_count": 11,
   "metadata": {},
   "outputs": [
    {
     "data": {
      "text/html": [
       "<div>\n",
       "<style scoped>\n",
       "    .dataframe tbody tr th:only-of-type {\n",
       "        vertical-align: middle;\n",
       "    }\n",
       "\n",
       "    .dataframe tbody tr th {\n",
       "        vertical-align: top;\n",
       "    }\n",
       "\n",
       "    .dataframe thead th {\n",
       "        text-align: right;\n",
       "    }\n",
       "</style>\n",
       "<table border=\"1\" class=\"dataframe\">\n",
       "  <thead>\n",
       "    <tr style=\"text-align: right;\">\n",
       "      <th></th>\n",
       "      <th>exprior</th>\n",
       "      <th>yearsworked</th>\n",
       "      <th>yearsrank</th>\n",
       "      <th>market</th>\n",
       "      <th>degree</th>\n",
       "      <th>otherqual</th>\n",
       "      <th>position</th>\n",
       "      <th>male</th>\n",
       "      <th>yearsabs</th>\n",
       "      <th>Engineering</th>\n",
       "      <th>Finance</th>\n",
       "      <th>HR</th>\n",
       "      <th>Marketing</th>\n",
       "    </tr>\n",
       "  </thead>\n",
       "  <tbody>\n",
       "    <tr>\n",
       "      <th>0</th>\n",
       "      <td>0</td>\n",
       "      <td>0</td>\n",
       "      <td>0</td>\n",
       "      <td>1.17</td>\n",
       "      <td>1</td>\n",
       "      <td>0</td>\n",
       "      <td>1</td>\n",
       "      <td>1</td>\n",
       "      <td>0</td>\n",
       "      <td>0</td>\n",
       "      <td>0</td>\n",
       "      <td>1</td>\n",
       "      <td>0</td>\n",
       "    </tr>\n",
       "    <tr>\n",
       "      <th>1</th>\n",
       "      <td>1</td>\n",
       "      <td>0</td>\n",
       "      <td>0</td>\n",
       "      <td>1.24</td>\n",
       "      <td>1</td>\n",
       "      <td>0</td>\n",
       "      <td>1</td>\n",
       "      <td>1</td>\n",
       "      <td>0</td>\n",
       "      <td>0</td>\n",
       "      <td>1</td>\n",
       "      <td>0</td>\n",
       "      <td>0</td>\n",
       "    </tr>\n",
       "    <tr>\n",
       "      <th>2</th>\n",
       "      <td>0</td>\n",
       "      <td>0</td>\n",
       "      <td>0</td>\n",
       "      <td>1.21</td>\n",
       "      <td>1</td>\n",
       "      <td>0</td>\n",
       "      <td>1</td>\n",
       "      <td>1</td>\n",
       "      <td>2</td>\n",
       "      <td>0</td>\n",
       "      <td>0</td>\n",
       "      <td>1</td>\n",
       "      <td>0</td>\n",
       "    </tr>\n",
       "    <tr>\n",
       "      <th>3</th>\n",
       "      <td>0</td>\n",
       "      <td>2</td>\n",
       "      <td>1</td>\n",
       "      <td>0.99</td>\n",
       "      <td>1</td>\n",
       "      <td>0</td>\n",
       "      <td>1</td>\n",
       "      <td>1</td>\n",
       "      <td>1</td>\n",
       "      <td>0</td>\n",
       "      <td>0</td>\n",
       "      <td>0</td>\n",
       "      <td>1</td>\n",
       "    </tr>\n",
       "    <tr>\n",
       "      <th>4</th>\n",
       "      <td>0</td>\n",
       "      <td>2</td>\n",
       "      <td>2</td>\n",
       "      <td>0.91</td>\n",
       "      <td>1</td>\n",
       "      <td>0</td>\n",
       "      <td>1</td>\n",
       "      <td>1</td>\n",
       "      <td>1</td>\n",
       "      <td>0</td>\n",
       "      <td>0</td>\n",
       "      <td>0</td>\n",
       "      <td>1</td>\n",
       "    </tr>\n",
       "    <tr>\n",
       "      <th>...</th>\n",
       "      <td>...</td>\n",
       "      <td>...</td>\n",
       "      <td>...</td>\n",
       "      <td>...</td>\n",
       "      <td>...</td>\n",
       "      <td>...</td>\n",
       "      <td>...</td>\n",
       "      <td>...</td>\n",
       "      <td>...</td>\n",
       "      <td>...</td>\n",
       "      <td>...</td>\n",
       "      <td>...</td>\n",
       "      <td>...</td>\n",
       "    </tr>\n",
       "    <tr>\n",
       "      <th>509</th>\n",
       "      <td>6</td>\n",
       "      <td>17</td>\n",
       "      <td>11</td>\n",
       "      <td>0.92</td>\n",
       "      <td>1</td>\n",
       "      <td>0</td>\n",
       "      <td>2</td>\n",
       "      <td>0</td>\n",
       "      <td>70</td>\n",
       "      <td>0</td>\n",
       "      <td>1</td>\n",
       "      <td>0</td>\n",
       "      <td>0</td>\n",
       "    </tr>\n",
       "    <tr>\n",
       "      <th>510</th>\n",
       "      <td>6</td>\n",
       "      <td>19</td>\n",
       "      <td>7</td>\n",
       "      <td>0.86</td>\n",
       "      <td>1</td>\n",
       "      <td>0</td>\n",
       "      <td>3</td>\n",
       "      <td>0</td>\n",
       "      <td>72</td>\n",
       "      <td>1</td>\n",
       "      <td>0</td>\n",
       "      <td>0</td>\n",
       "      <td>0</td>\n",
       "    </tr>\n",
       "    <tr>\n",
       "      <th>511</th>\n",
       "      <td>19</td>\n",
       "      <td>7</td>\n",
       "      <td>6</td>\n",
       "      <td>0.78</td>\n",
       "      <td>1</td>\n",
       "      <td>0</td>\n",
       "      <td>3</td>\n",
       "      <td>0</td>\n",
       "      <td>76</td>\n",
       "      <td>0</td>\n",
       "      <td>0</td>\n",
       "      <td>0</td>\n",
       "      <td>1</td>\n",
       "    </tr>\n",
       "    <tr>\n",
       "      <th>512</th>\n",
       "      <td>8</td>\n",
       "      <td>20</td>\n",
       "      <td>10</td>\n",
       "      <td>0.78</td>\n",
       "      <td>1</td>\n",
       "      <td>0</td>\n",
       "      <td>3</td>\n",
       "      <td>0</td>\n",
       "      <td>78</td>\n",
       "      <td>0</td>\n",
       "      <td>1</td>\n",
       "      <td>0</td>\n",
       "      <td>0</td>\n",
       "    </tr>\n",
       "    <tr>\n",
       "      <th>513</th>\n",
       "      <td>13</td>\n",
       "      <td>25</td>\n",
       "      <td>11</td>\n",
       "      <td>0.78</td>\n",
       "      <td>1</td>\n",
       "      <td>0</td>\n",
       "      <td>3</td>\n",
       "      <td>0</td>\n",
       "      <td>112</td>\n",
       "      <td>1</td>\n",
       "      <td>0</td>\n",
       "      <td>0</td>\n",
       "      <td>0</td>\n",
       "    </tr>\n",
       "  </tbody>\n",
       "</table>\n",
       "<p>514 rows × 13 columns</p>\n",
       "</div>"
      ],
      "text/plain": [
       "     exprior  yearsworked  yearsrank  market  degree  otherqual  position  \\\n",
       "0          0            0          0    1.17       1          0         1   \n",
       "1          1            0          0    1.24       1          0         1   \n",
       "2          0            0          0    1.21       1          0         1   \n",
       "3          0            2          1    0.99       1          0         1   \n",
       "4          0            2          2    0.91       1          0         1   \n",
       "..       ...          ...        ...     ...     ...        ...       ...   \n",
       "509        6           17         11    0.92       1          0         2   \n",
       "510        6           19          7    0.86       1          0         3   \n",
       "511       19            7          6    0.78       1          0         3   \n",
       "512        8           20         10    0.78       1          0         3   \n",
       "513       13           25         11    0.78       1          0         3   \n",
       "\n",
       "     male  yearsabs  Engineering  Finance  HR  Marketing  \n",
       "0       1         0            0        0   1          0  \n",
       "1       1         0            0        1   0          0  \n",
       "2       1         2            0        0   1          0  \n",
       "3       1         1            0        0   0          1  \n",
       "4       1         1            0        0   0          1  \n",
       "..    ...       ...          ...      ...  ..        ...  \n",
       "509     0        70            0        1   0          0  \n",
       "510     0        72            1        0   0          0  \n",
       "511     0        76            0        0   0          1  \n",
       "512     0        78            0        1   0          0  \n",
       "513     0       112            1        0   0          0  \n",
       "\n",
       "[514 rows x 13 columns]"
      ]
     },
     "execution_count": 11,
     "metadata": {},
     "output_type": "execute_result"
    }
   ],
   "source": [
    "df4.corr()\n",
    "df4.drop('salary', axis = 1)"
   ]
  },
  {
   "cell_type": "code",
   "execution_count": 12,
   "metadata": {},
   "outputs": [
    {
     "data": {
      "image/png": "[encoded data removed]",
      "text/plain": [
       "<Figure size 720x360 with 2 Axes>"
      ]
     },
     "metadata": {},
     "output_type": "display_data"
    }
   ],
   "source": [
    "plt.figure(figsize=(10,5))\n",
    "new_corr = sns.heatmap(df4.corr())"
   ]
  },
  {
   "cell_type": "code",
   "execution_count": 13,
   "metadata": {},
   "outputs": [
    {
     "data": {
      "text/html": [
       "<div>\n",
       "<style scoped>\n",
       "    .dataframe tbody tr th:only-of-type {\n",
       "        vertical-align: middle;\n",
       "    }\n",
       "\n",
       "    .dataframe tbody tr th {\n",
       "        vertical-align: top;\n",
       "    }\n",
       "\n",
       "    .dataframe thead th {\n",
       "        text-align: right;\n",
       "    }\n",
       "</style>\n",
       "<table border=\"1\" class=\"dataframe\">\n",
       "  <thead>\n",
       "    <tr style=\"text-align: right;\">\n",
       "      <th></th>\n",
       "      <th>salary</th>\n",
       "      <th>yearsworked</th>\n",
       "      <th>yearsrank</th>\n",
       "      <th>position</th>\n",
       "      <th>Engineering</th>\n",
       "      <th>Finance</th>\n",
       "      <th>HR</th>\n",
       "      <th>Marketing</th>\n",
       "    </tr>\n",
       "  </thead>\n",
       "  <tbody>\n",
       "    <tr>\n",
       "      <th>0</th>\n",
       "      <td>53000.0</td>\n",
       "      <td>0</td>\n",
       "      <td>0</td>\n",
       "      <td>1</td>\n",
       "      <td>0</td>\n",
       "      <td>0</td>\n",
       "      <td>1</td>\n",
       "      <td>0</td>\n",
       "    </tr>\n",
       "    <tr>\n",
       "      <th>1</th>\n",
       "      <td>58000.0</td>\n",
       "      <td>0</td>\n",
       "      <td>0</td>\n",
       "      <td>1</td>\n",
       "      <td>0</td>\n",
       "      <td>1</td>\n",
       "      <td>0</td>\n",
       "      <td>0</td>\n",
       "    </tr>\n",
       "    <tr>\n",
       "      <th>2</th>\n",
       "      <td>45500.0</td>\n",
       "      <td>0</td>\n",
       "      <td>0</td>\n",
       "      <td>1</td>\n",
       "      <td>0</td>\n",
       "      <td>0</td>\n",
       "      <td>1</td>\n",
       "      <td>0</td>\n",
       "    </tr>\n",
       "    <tr>\n",
       "      <th>3</th>\n",
       "      <td>35782.0</td>\n",
       "      <td>2</td>\n",
       "      <td>1</td>\n",
       "      <td>1</td>\n",
       "      <td>0</td>\n",
       "      <td>0</td>\n",
       "      <td>0</td>\n",
       "      <td>1</td>\n",
       "    </tr>\n",
       "    <tr>\n",
       "      <th>4</th>\n",
       "      <td>34731.0</td>\n",
       "      <td>2</td>\n",
       "      <td>2</td>\n",
       "      <td>1</td>\n",
       "      <td>0</td>\n",
       "      <td>0</td>\n",
       "      <td>0</td>\n",
       "      <td>1</td>\n",
       "    </tr>\n",
       "  </tbody>\n",
       "</table>\n",
       "</div>"
      ],
      "text/plain": [
       "    salary  yearsworked  yearsrank  position  Engineering  Finance  HR  \\\n",
       "0  53000.0            0          0         1            0        0   1   \n",
       "1  58000.0            0          0         1            0        1   0   \n",
       "2  45500.0            0          0         1            0        0   1   \n",
       "3  35782.0            2          1         1            0        0   0   \n",
       "4  34731.0            2          2         1            0        0   0   \n",
       "\n",
       "   Marketing  \n",
       "0          0  \n",
       "1          0  \n",
       "2          0  \n",
       "3          1  \n",
       "4          1  "
      ]
     },
     "execution_count": 13,
     "metadata": {},
     "output_type": "execute_result"
    }
   ],
   "source": [
    "train = df4.drop(['exprior','market','degree','otherqual','male','yearsabs'], axis = 1)\n",
    "train.head()"
   ]
  },
  {
   "cell_type": "code",
   "execution_count": 14,
   "metadata": {},
   "outputs": [],
   "source": [
    "pos = pd.get_dummies(df4.position, prefix = 'Position')\n",
    "pos.drop('Position_3', inplace=True, axis=1)\n",
    "pos = pos.rename(columns={\"Position_1\": \"Junior Employee\", \"Position_2\": \"Manager\", \"Position_3\":\"Executive\"})"
   ]
  },
  {
   "cell_type": "code",
   "execution_count": 15,
   "metadata": {},
   "outputs": [
    {
     "data": {
      "text/html": [
       "<div>\n",
       "<style scoped>\n",
       "    .dataframe tbody tr th:only-of-type {\n",
       "        vertical-align: middle;\n",
       "    }\n",
       "\n",
       "    .dataframe tbody tr th {\n",
       "        vertical-align: top;\n",
       "    }\n",
       "\n",
       "    .dataframe thead th {\n",
       "        text-align: right;\n",
       "    }\n",
       "</style>\n",
       "<table border=\"1\" class=\"dataframe\">\n",
       "  <thead>\n",
       "    <tr style=\"text-align: right;\">\n",
       "      <th></th>\n",
       "      <th>salary</th>\n",
       "      <th>yearsworked</th>\n",
       "      <th>yearsrank</th>\n",
       "      <th>position</th>\n",
       "      <th>Engineering</th>\n",
       "      <th>Finance</th>\n",
       "      <th>HR</th>\n",
       "      <th>Marketing</th>\n",
       "      <th>Junior Employee</th>\n",
       "      <th>Manager</th>\n",
       "    </tr>\n",
       "  </thead>\n",
       "  <tbody>\n",
       "    <tr>\n",
       "      <th>0</th>\n",
       "      <td>53000.0</td>\n",
       "      <td>0</td>\n",
       "      <td>0</td>\n",
       "      <td>1</td>\n",
       "      <td>0</td>\n",
       "      <td>0</td>\n",
       "      <td>1</td>\n",
       "      <td>0</td>\n",
       "      <td>1</td>\n",
       "      <td>0</td>\n",
       "    </tr>\n",
       "    <tr>\n",
       "      <th>1</th>\n",
       "      <td>58000.0</td>\n",
       "      <td>0</td>\n",
       "      <td>0</td>\n",
       "      <td>1</td>\n",
       "      <td>0</td>\n",
       "      <td>1</td>\n",
       "      <td>0</td>\n",
       "      <td>0</td>\n",
       "      <td>1</td>\n",
       "      <td>0</td>\n",
       "    </tr>\n",
       "    <tr>\n",
       "      <th>2</th>\n",
       "      <td>45500.0</td>\n",
       "      <td>0</td>\n",
       "      <td>0</td>\n",
       "      <td>1</td>\n",
       "      <td>0</td>\n",
       "      <td>0</td>\n",
       "      <td>1</td>\n",
       "      <td>0</td>\n",
       "      <td>1</td>\n",
       "      <td>0</td>\n",
       "    </tr>\n",
       "    <tr>\n",
       "      <th>3</th>\n",
       "      <td>35782.0</td>\n",
       "      <td>2</td>\n",
       "      <td>1</td>\n",
       "      <td>1</td>\n",
       "      <td>0</td>\n",
       "      <td>0</td>\n",
       "      <td>0</td>\n",
       "      <td>1</td>\n",
       "      <td>1</td>\n",
       "      <td>0</td>\n",
       "    </tr>\n",
       "    <tr>\n",
       "      <th>4</th>\n",
       "      <td>34731.0</td>\n",
       "      <td>2</td>\n",
       "      <td>2</td>\n",
       "      <td>1</td>\n",
       "      <td>0</td>\n",
       "      <td>0</td>\n",
       "      <td>0</td>\n",
       "      <td>1</td>\n",
       "      <td>1</td>\n",
       "      <td>0</td>\n",
       "    </tr>\n",
       "  </tbody>\n",
       "</table>\n",
       "</div>"
      ],
      "text/plain": [
       "    salary  yearsworked  yearsrank  position  Engineering  Finance  HR  \\\n",
       "0  53000.0            0          0         1            0        0   1   \n",
       "1  58000.0            0          0         1            0        1   0   \n",
       "2  45500.0            0          0         1            0        0   1   \n",
       "3  35782.0            2          1         1            0        0   0   \n",
       "4  34731.0            2          2         1            0        0   0   \n",
       "\n",
       "   Marketing  Junior Employee  Manager  \n",
       "0          0                1        0  \n",
       "1          0                1        0  \n",
       "2          0                1        0  \n",
       "3          1                1        0  \n",
       "4          1                1        0  "
      ]
     },
     "execution_count": 15,
     "metadata": {},
     "output_type": "execute_result"
    }
   ],
   "source": [
    "data = [train, pos]\n",
    "data = pd.concat(data, axis=1)\n",
    "data.head()"
   ]
  },
  {
   "cell_type": "markdown",
   "metadata": {},
   "source": [
    "#### Splitting data"
   ]
  },
  {
   "cell_type": "markdown",
   "metadata": {},
   "source": [
    "We have split the data into Train (75%) and Test (25%) sets. We will be working for the most part on our Train set to help train our model and make a few predictions on the test data. Why we split right now in light of the fact that the preparation set contains a known yield and the model learns on this information so as to be summed up to other data later on. We have the test dataset so as to test our model's predictions on this subset."
   ]
  },
  {
   "cell_type": "code",
   "execution_count": 16,
   "metadata": {},
   "outputs": [],
   "source": [
    "#splitting data\n",
    "x = data.drop(['salary','position','yearsrank'], axis = 1)\n",
    "y = data.salary"
   ]
  },
  {
   "cell_type": "code",
   "execution_count": 17,
   "metadata": {},
   "outputs": [],
   "source": [
    "x_train,x_test,y_train,y_test = train_test_split(x,y,test_size=0.3,random_state=0)"
   ]
  },
  {
   "cell_type": "markdown",
   "metadata": {},
   "source": [
    "#### - Use multiple linear regression to predict salary from all the variables in the training dataset. Interpret the standardised coefficients given in the statsmodels output."
   ]
  },
  {
   "cell_type": "code",
   "execution_count": 18,
   "metadata": {},
   "outputs": [
    {
     "data": {
      "text/html": [
       "<table class=\"simpletable\">\n",
       "<caption>OLS Regression Results</caption>\n",
       "<tr>\n",
       "  <th>Dep. Variable:</th>         <td>salary</td>      <th>  R-squared:         </th> <td>   0.640</td>\n",
       "</tr>\n",
       "<tr>\n",
       "  <th>Model:</th>                   <td>OLS</td>       <th>  Adj. R-squared:    </th> <td>   0.634</td>\n",
       "</tr>\n",
       "<tr>\n",
       "  <th>Method:</th>             <td>Least Squares</td>  <th>  F-statistic:       </th> <td>   104.5</td>\n",
       "</tr>\n",
       "<tr>\n",
       "  <th>Date:</th>             <td>Thu, 21 May 2020</td> <th>  Prob (F-statistic):</th> <td>4.36e-75</td>\n",
       "</tr>\n",
       "<tr>\n",
       "  <th>Time:</th>                 <td>10:42:52</td>     <th>  Log-Likelihood:    </th> <td> -3724.1</td>\n",
       "</tr>\n",
       "<tr>\n",
       "  <th>No. Observations:</th>      <td>   359</td>      <th>  AIC:               </th> <td>   7462.</td>\n",
       "</tr>\n",
       "<tr>\n",
       "  <th>Df Residuals:</th>          <td>   352</td>      <th>  BIC:               </th> <td>   7489.</td>\n",
       "</tr>\n",
       "<tr>\n",
       "  <th>Df Model:</th>              <td>     6</td>      <th>                     </th>     <td> </td>   \n",
       "</tr>\n",
       "<tr>\n",
       "  <th>Covariance Type:</th>      <td>nonrobust</td>    <th>                     </th>     <td> </td>   \n",
       "</tr>\n",
       "</table>\n",
       "<table class=\"simpletable\">\n",
       "<tr>\n",
       "         <td></td>            <th>coef</th>     <th>std err</th>      <th>t</th>      <th>P>|t|</th>  <th>[0.025</th>    <th>0.975]</th>  \n",
       "</tr>\n",
       "<tr>\n",
       "  <th>yearsworked</th>     <td>  223.8964</td> <td>   62.144</td> <td>    3.603</td> <td> 0.000</td> <td>  101.676</td> <td>  346.116</td>\n",
       "</tr>\n",
       "<tr>\n",
       "  <th>Engineering</th>     <td> 6.116e+04</td> <td> 1542.283</td> <td>   39.658</td> <td> 0.000</td> <td> 5.81e+04</td> <td> 6.42e+04</td>\n",
       "</tr>\n",
       "<tr>\n",
       "  <th>Finance</th>         <td> 5.798e+04</td> <td> 1572.981</td> <td>   36.862</td> <td> 0.000</td> <td> 5.49e+04</td> <td> 6.11e+04</td>\n",
       "</tr>\n",
       "<tr>\n",
       "  <th>HR</th>              <td> 5.016e+04</td> <td> 1637.978</td> <td>   30.622</td> <td> 0.000</td> <td> 4.69e+04</td> <td> 5.34e+04</td>\n",
       "</tr>\n",
       "<tr>\n",
       "  <th>Marketing</th>       <td> 5.215e+04</td> <td> 1589.847</td> <td>   32.801</td> <td> 0.000</td> <td>  4.9e+04</td> <td> 5.53e+04</td>\n",
       "</tr>\n",
       "<tr>\n",
       "  <th>Junior Employee</th> <td>-1.438e+04</td> <td> 1487.064</td> <td>   -9.670</td> <td> 0.000</td> <td>-1.73e+04</td> <td>-1.15e+04</td>\n",
       "</tr>\n",
       "<tr>\n",
       "  <th>Manager</th>         <td>-9929.9584</td> <td> 1137.047</td> <td>   -8.733</td> <td> 0.000</td> <td>-1.22e+04</td> <td>-7693.698</td>\n",
       "</tr>\n",
       "</table>\n",
       "<table class=\"simpletable\">\n",
       "<tr>\n",
       "  <th>Omnibus:</th>       <td>57.582</td> <th>  Durbin-Watson:     </th> <td>   1.961</td>\n",
       "</tr>\n",
       "<tr>\n",
       "  <th>Prob(Omnibus):</th> <td> 0.000</td> <th>  Jarque-Bera (JB):  </th> <td>  92.469</td>\n",
       "</tr>\n",
       "<tr>\n",
       "  <th>Skew:</th>          <td> 0.963</td> <th>  Prob(JB):          </th> <td>8.33e-21</td>\n",
       "</tr>\n",
       "<tr>\n",
       "  <th>Kurtosis:</th>      <td> 4.573</td> <th>  Cond. No.          </th> <td>    123.</td>\n",
       "</tr>\n",
       "</table><br/><br/>Warnings:<br/>[1] Standard Errors assume that the covariance matrix of the errors is correctly specified."
      ],
      "text/plain": [
       "<class 'statsmodels.iolib.summary.Summary'>\n",
       "\"\"\"\n",
       "                            OLS Regression Results                            \n",
       "==============================================================================\n",
       "Dep. Variable:                 salary   R-squared:                       0.640\n",
       "Model:                            OLS   Adj. R-squared:                  0.634\n",
       "Method:                 Least Squares   F-statistic:                     104.5\n",
       "Date:                Thu, 21 May 2020   Prob (F-statistic):           4.36e-75\n",
       "Time:                        10:42:52   Log-Likelihood:                -3724.1\n",
       "No. Observations:                 359   AIC:                             7462.\n",
       "Df Residuals:                     352   BIC:                             7489.\n",
       "Df Model:                           6                                         \n",
       "Covariance Type:            nonrobust                                         \n",
       "===================================================================================\n",
       "                      coef    std err          t      P>|t|      [0.025      0.975]\n",
       "-----------------------------------------------------------------------------------\n",
       "yearsworked       223.8964     62.144      3.603      0.000     101.676     346.116\n",
       "Engineering      6.116e+04   1542.283     39.658      0.000    5.81e+04    6.42e+04\n",
       "Finance          5.798e+04   1572.981     36.862      0.000    5.49e+04    6.11e+04\n",
       "HR               5.016e+04   1637.978     30.622      0.000    4.69e+04    5.34e+04\n",
       "Marketing        5.215e+04   1589.847     32.801      0.000     4.9e+04    5.53e+04\n",
       "Junior Employee -1.438e+04   1487.064     -9.670      0.000   -1.73e+04   -1.15e+04\n",
       "Manager         -9929.9584   1137.047     -8.733      0.000   -1.22e+04   -7693.698\n",
       "==============================================================================\n",
       "Omnibus:                       57.582   Durbin-Watson:                   1.961\n",
       "Prob(Omnibus):                  0.000   Jarque-Bera (JB):               92.469\n",
       "Skew:                           0.963   Prob(JB):                     8.33e-21\n",
       "Kurtosis:                       4.573   Cond. No.                         123.\n",
       "==============================================================================\n",
       "\n",
       "Warnings:\n",
       "[1] Standard Errors assume that the covariance matrix of the errors is correctly specified.\n",
       "\"\"\""
      ]
     },
     "execution_count": 18,
     "metadata": {},
     "output_type": "execute_result"
    }
   ],
   "source": [
    "# fit the model to the training data\n",
    "lm= sm.OLS(y_train,x_train).fit()\n",
    "lm.summary()"
   ]
  },
  {
   "cell_type": "code",
   "execution_count": 19,
   "metadata": {},
   "outputs": [
    {
     "data": {
      "text/plain": [
       "yearsworked          223.896416\n",
       "Engineering        61163.899145\n",
       "Finance            57983.072655\n",
       "HR                 50158.545597\n",
       "Marketing          52149.098554\n",
       "Junior Employee   -14380.502615\n",
       "Manager            -9929.958358\n",
       "dtype: float64"
      ]
     },
     "execution_count": 19,
     "metadata": {},
     "output_type": "execute_result"
    }
   ],
   "source": [
    "#Standardised Coefficient\n",
    "lm.params"
   ]
  },
  {
   "cell_type": "markdown",
   "metadata": {},
   "source": [
    "#### - Calculate the standardised residuals and standardised predicted values."
   ]
  },
  {
   "cell_type": "code",
   "execution_count": 20,
   "metadata": {},
   "outputs": [],
   "source": [
    "#Creating residuals\n",
    "residual  = lm.resid\n",
    "\n",
    "#Fitting the vaules to model\n",
    "pred_val = lm.fittedvalues"
   ]
  },
  {
   "cell_type": "markdown",
   "metadata": {},
   "source": [
    "##### Residual Plot"
   ]
  },
  {
   "cell_type": "code",
   "execution_count": 21,
   "metadata": {},
   "outputs": [
    {
     "data": {
      "text/plain": [
       "Text(0, 0.5, 'Residuals')"
      ]
     },
     "execution_count": 21,
     "metadata": {},
     "output_type": "execute_result"
    },
    {
     "data": {
      "image/png": "[encoded data removed]",
      "text/plain": [
       "<Figure size 432x288 with 1 Axes>"
      ]
     },
     "metadata": {},
     "output_type": "display_data"
    }
   ],
   "source": [
    "#Plotting the residuals versus the predicted values\n",
    "sns.residplot(x = pred_val, y = residual, lowess=True)\n",
    "\n",
    "plt.title('Residuals VS the Predicted Salary', fontsize=16)\n",
    "plt.xlabel('Fitted Values')\n",
    "plt.ylabel('Residuals')"
   ]
  },
  {
   "cell_type": "code",
   "execution_count": 22,
   "metadata": {},
   "outputs": [
    {
     "name": "stdout",
     "output_type": "stream",
     "text": [
      "TEST RMSE: 7262.758585762729\n",
      "TRAINING RMSE: 7743.392477099224\n"
     ]
    }
   ],
   "source": [
    "regression = LinearRegression().fit(x_train, y_train)\n",
    "\n",
    "# RMSE: test data\n",
    "print('TEST RMSE:', np.sqrt(sklearn.metrics.mean_squared_error(y_test, regression.predict(x_test))))\n",
    "\n",
    "# RMSE: train data\n",
    "print('TRAINING RMSE:', np.sqrt(sklearn.metrics.mean_squared_error(y_train, regression.predict(x_train))))"
   ]
  },
  {
   "cell_type": "markdown",
   "metadata": {},
   "source": [
    "#### Insights"
   ]
  },
  {
   "cell_type": "markdown",
   "metadata": {},
   "source": [
    "The RMSE scores shows signs of overfitting as observered the test is lower than the train values"
   ]
  },
  {
   "cell_type": "markdown",
   "metadata": {},
   "source": [
    "## OOP FOR DATA SCIENCE"
   ]
  },
  {
   "cell_type": "code",
   "execution_count": 23,
   "metadata": {},
   "outputs": [],
   "source": [
    "df_= df4.drop(['Engineering'], axis = 1)"
   ]
  },
  {
   "cell_type": "code",
   "execution_count": 24,
   "metadata": {},
   "outputs": [],
   "source": [
    "# Splitting the data for model 1\n",
    "X_train1, X_test1, y_train1, y_test1 = train_test_split(\n",
    "   df_.drop(labels=[\"salary\"], axis=1),\n",
    "    df_[\"salary\"],\n",
    "    test_size = 0.3,\n",
    "    random_state = 42)"
   ]
  },
  {
   "cell_type": "markdown",
   "metadata": {},
   "source": [
    "#### Model 1"
   ]
  },
  {
   "cell_type": "code",
   "execution_count": 25,
   "metadata": {},
   "outputs": [
    {
     "data": {
      "text/html": [
       "<table class=\"simpletable\">\n",
       "<caption>OLS Regression Results</caption>\n",
       "<tr>\n",
       "  <th>Dep. Variable:</th>         <td>salary</td>      <th>  R-squared:         </th> <td>   0.816</td> \n",
       "</tr>\n",
       "<tr>\n",
       "  <th>Model:</th>                   <td>OLS</td>       <th>  Adj. R-squared:    </th> <td>   0.810</td> \n",
       "</tr>\n",
       "<tr>\n",
       "  <th>Method:</th>             <td>Least Squares</td>  <th>  F-statistic:       </th> <td>   128.2</td> \n",
       "</tr>\n",
       "<tr>\n",
       "  <th>Date:</th>             <td>Thu, 21 May 2020</td> <th>  Prob (F-statistic):</th> <td>2.23e-119</td>\n",
       "</tr>\n",
       "<tr>\n",
       "  <th>Time:</th>                 <td>10:42:53</td>     <th>  Log-Likelihood:    </th> <td> -3590.2</td> \n",
       "</tr>\n",
       "<tr>\n",
       "  <th>No. Observations:</th>      <td>   359</td>      <th>  AIC:               </th> <td>   7206.</td> \n",
       "</tr>\n",
       "<tr>\n",
       "  <th>Df Residuals:</th>          <td>   346</td>      <th>  BIC:               </th> <td>   7257.</td> \n",
       "</tr>\n",
       "<tr>\n",
       "  <th>Df Model:</th>              <td>    12</td>      <th>                     </th>     <td> </td>    \n",
       "</tr>\n",
       "<tr>\n",
       "  <th>Covariance Type:</th>      <td>nonrobust</td>    <th>                     </th>     <td> </td>    \n",
       "</tr>\n",
       "</table>\n",
       "<table class=\"simpletable\">\n",
       "<tr>\n",
       "       <td></td>          <th>coef</th>     <th>std err</th>      <th>t</th>      <th>P>|t|</th>  <th>[0.025</th>    <th>0.975]</th>  \n",
       "</tr>\n",
       "<tr>\n",
       "  <th>const</th>       <td> 6322.9157</td> <td> 2931.735</td> <td>    2.157</td> <td> 0.032</td> <td>  556.651</td> <td> 1.21e+04</td>\n",
       "</tr>\n",
       "<tr>\n",
       "  <th>exprior</th>     <td>  176.4131</td> <td>   82.340</td> <td>    2.143</td> <td> 0.033</td> <td>   14.464</td> <td>  338.362</td>\n",
       "</tr>\n",
       "<tr>\n",
       "  <th>yearsworked</th> <td> -109.9087</td> <td>   96.987</td> <td>   -1.133</td> <td> 0.258</td> <td> -300.667</td> <td>   80.850</td>\n",
       "</tr>\n",
       "<tr>\n",
       "  <th>yearsrank</th>   <td>  768.6775</td> <td>   90.076</td> <td>    8.534</td> <td> 0.000</td> <td>  591.513</td> <td>  945.842</td>\n",
       "</tr>\n",
       "<tr>\n",
       "  <th>market</th>      <td> 2.914e+04</td> <td> 2157.121</td> <td>   13.508</td> <td> 0.000</td> <td> 2.49e+04</td> <td> 3.34e+04</td>\n",
       "</tr>\n",
       "<tr>\n",
       "  <th>degree</th>      <td> -615.2965</td> <td> 1495.765</td> <td>   -0.411</td> <td> 0.681</td> <td>-3557.232</td> <td> 2326.639</td>\n",
       "</tr>\n",
       "<tr>\n",
       "  <th>otherqual</th>   <td> 1009.5818</td> <td> 1441.047</td> <td>    0.701</td> <td> 0.484</td> <td>-1824.733</td> <td> 3843.896</td>\n",
       "</tr>\n",
       "<tr>\n",
       "  <th>position</th>    <td> 7525.6823</td> <td>  724.008</td> <td>   10.394</td> <td> 0.000</td> <td> 6101.671</td> <td> 8949.694</td>\n",
       "</tr>\n",
       "<tr>\n",
       "  <th>male</th>        <td>  688.0969</td> <td>  992.135</td> <td>    0.694</td> <td> 0.488</td> <td>-1263.278</td> <td> 2639.472</td>\n",
       "</tr>\n",
       "<tr>\n",
       "  <th>yearsabs</th>    <td>  -27.6361</td> <td>   23.603</td> <td>   -1.171</td> <td> 0.242</td> <td>  -74.059</td> <td>   18.787</td>\n",
       "</tr>\n",
       "<tr>\n",
       "  <th>Finance</th>     <td>-1701.2199</td> <td>  822.307</td> <td>   -2.069</td> <td> 0.039</td> <td>-3318.570</td> <td>  -83.870</td>\n",
       "</tr>\n",
       "<tr>\n",
       "  <th>HR</th>          <td>-6354.1037</td> <td>  937.430</td> <td>   -6.778</td> <td> 0.000</td> <td>-8197.882</td> <td>-4510.325</td>\n",
       "</tr>\n",
       "<tr>\n",
       "  <th>Marketing</th>   <td>-5473.2986</td> <td>  859.413</td> <td>   -6.369</td> <td> 0.000</td> <td>-7163.630</td> <td>-3782.967</td>\n",
       "</tr>\n",
       "</table>\n",
       "<table class=\"simpletable\">\n",
       "<tr>\n",
       "  <th>Omnibus:</th>       <td>23.112</td> <th>  Durbin-Watson:     </th> <td>   2.198</td>\n",
       "</tr>\n",
       "<tr>\n",
       "  <th>Prob(Omnibus):</th> <td> 0.000</td> <th>  Jarque-Bera (JB):  </th> <td>  35.706</td>\n",
       "</tr>\n",
       "<tr>\n",
       "  <th>Skew:</th>          <td> 0.448</td> <th>  Prob(JB):          </th> <td>1.76e-08</td>\n",
       "</tr>\n",
       "<tr>\n",
       "  <th>Kurtosis:</th>      <td> 4.258</td> <th>  Cond. No.          </th> <td>    267.</td>\n",
       "</tr>\n",
       "</table><br/><br/>Warnings:<br/>[1] Standard Errors assume that the covariance matrix of the errors is correctly specified."
      ],
      "text/plain": [
       "<class 'statsmodels.iolib.summary.Summary'>\n",
       "\"\"\"\n",
       "                            OLS Regression Results                            \n",
       "==============================================================================\n",
       "Dep. Variable:                 salary   R-squared:                       0.816\n",
       "Model:                            OLS   Adj. R-squared:                  0.810\n",
       "Method:                 Least Squares   F-statistic:                     128.2\n",
       "Date:                Thu, 21 May 2020   Prob (F-statistic):          2.23e-119\n",
       "Time:                        10:42:53   Log-Likelihood:                -3590.2\n",
       "No. Observations:                 359   AIC:                             7206.\n",
       "Df Residuals:                     346   BIC:                             7257.\n",
       "Df Model:                          12                                         \n",
       "Covariance Type:            nonrobust                                         \n",
       "===============================================================================\n",
       "                  coef    std err          t      P>|t|      [0.025      0.975]\n",
       "-------------------------------------------------------------------------------\n",
       "const        6322.9157   2931.735      2.157      0.032     556.651    1.21e+04\n",
       "exprior       176.4131     82.340      2.143      0.033      14.464     338.362\n",
       "yearsworked  -109.9087     96.987     -1.133      0.258    -300.667      80.850\n",
       "yearsrank     768.6775     90.076      8.534      0.000     591.513     945.842\n",
       "market       2.914e+04   2157.121     13.508      0.000    2.49e+04    3.34e+04\n",
       "degree       -615.2965   1495.765     -0.411      0.681   -3557.232    2326.639\n",
       "otherqual    1009.5818   1441.047      0.701      0.484   -1824.733    3843.896\n",
       "position     7525.6823    724.008     10.394      0.000    6101.671    8949.694\n",
       "male          688.0969    992.135      0.694      0.488   -1263.278    2639.472\n",
       "yearsabs      -27.6361     23.603     -1.171      0.242     -74.059      18.787\n",
       "Finance     -1701.2199    822.307     -2.069      0.039   -3318.570     -83.870\n",
       "HR          -6354.1037    937.430     -6.778      0.000   -8197.882   -4510.325\n",
       "Marketing   -5473.2986    859.413     -6.369      0.000   -7163.630   -3782.967\n",
       "==============================================================================\n",
       "Omnibus:                       23.112   Durbin-Watson:                   2.198\n",
       "Prob(Omnibus):                  0.000   Jarque-Bera (JB):               35.706\n",
       "Skew:                           0.448   Prob(JB):                     1.76e-08\n",
       "Kurtosis:                       4.258   Cond. No.                         267.\n",
       "==============================================================================\n",
       "\n",
       "Warnings:\n",
       "[1] Standard Errors assume that the covariance matrix of the errors is correctly specified.\n",
       "\"\"\""
      ]
     },
     "execution_count": 25,
     "metadata": {},
     "output_type": "execute_result"
    }
   ],
   "source": [
    "# Building Model 1\n",
    "model1 = sm.add_constant(X_train1)\n",
    "model1 = sm.OLS(y_train1, model1).fit()\n",
    "model1.summary()"
   ]
  },
  {
   "cell_type": "markdown",
   "metadata": {},
   "source": [
    "#### Model 2"
   ]
  },
  {
   "cell_type": "code",
   "execution_count": 26,
   "metadata": {},
   "outputs": [],
   "source": [
    "# duplicating dataset\n",
    "data_2 = df_.copy()\n",
    "\n",
    "# dropping yearsrank as per instruction\n",
    "data_2 = data_2.drop(\"yearsrank\", axis=1)"
   ]
  },
  {
   "cell_type": "code",
   "execution_count": 27,
   "metadata": {},
   "outputs": [],
   "source": [
    "# Splitting the data for model 2\n",
    "X_train2, X_test2, y_train2, y_test2 = train_test_split(\n",
    "   data_2.drop(labels=[\"salary\"], axis=1),\n",
    "    data_2[\"salary\"],\n",
    "    test_size = 0.3,\n",
    "    random_state = 42)"
   ]
  },
  {
   "cell_type": "code",
   "execution_count": 28,
   "metadata": {},
   "outputs": [
    {
     "data": {
      "text/html": [
       "<table class=\"simpletable\">\n",
       "<caption>OLS Regression Results</caption>\n",
       "<tr>\n",
       "  <th>Dep. Variable:</th>         <td>salary</td>      <th>  R-squared:         </th> <td>   0.778</td> \n",
       "</tr>\n",
       "<tr>\n",
       "  <th>Model:</th>                   <td>OLS</td>       <th>  Adj. R-squared:    </th> <td>   0.771</td> \n",
       "</tr>\n",
       "<tr>\n",
       "  <th>Method:</th>             <td>Least Squares</td>  <th>  F-statistic:       </th> <td>   110.4</td> \n",
       "</tr>\n",
       "<tr>\n",
       "  <th>Date:</th>             <td>Thu, 21 May 2020</td> <th>  Prob (F-statistic):</th> <td>3.65e-106</td>\n",
       "</tr>\n",
       "<tr>\n",
       "  <th>Time:</th>                 <td>10:42:54</td>     <th>  Log-Likelihood:    </th> <td> -3624.5</td> \n",
       "</tr>\n",
       "<tr>\n",
       "  <th>No. Observations:</th>      <td>   359</td>      <th>  AIC:               </th> <td>   7273.</td> \n",
       "</tr>\n",
       "<tr>\n",
       "  <th>Df Residuals:</th>          <td>   347</td>      <th>  BIC:               </th> <td>   7320.</td> \n",
       "</tr>\n",
       "<tr>\n",
       "  <th>Df Model:</th>              <td>    11</td>      <th>                     </th>     <td> </td>    \n",
       "</tr>\n",
       "<tr>\n",
       "  <th>Covariance Type:</th>      <td>nonrobust</td>    <th>                     </th>     <td> </td>    \n",
       "</tr>\n",
       "</table>\n",
       "<table class=\"simpletable\">\n",
       "<tr>\n",
       "       <td></td>          <th>coef</th>     <th>std err</th>      <th>t</th>      <th>P>|t|</th>  <th>[0.025</th>    <th>0.975]</th>  \n",
       "</tr>\n",
       "<tr>\n",
       "  <th>const</th>       <td> 8270.4429</td> <td> 3211.115</td> <td>    2.576</td> <td> 0.010</td> <td> 1954.744</td> <td> 1.46e+04</td>\n",
       "</tr>\n",
       "<tr>\n",
       "  <th>exprior</th>     <td>  473.1718</td> <td>   81.997</td> <td>    5.771</td> <td> 0.000</td> <td>  311.898</td> <td>  634.446</td>\n",
       "</tr>\n",
       "<tr>\n",
       "  <th>yearsworked</th> <td>  557.1337</td> <td>   63.079</td> <td>    8.832</td> <td> 0.000</td> <td>  433.068</td> <td>  681.199</td>\n",
       "</tr>\n",
       "<tr>\n",
       "  <th>market</th>      <td> 3.014e+04</td> <td> 2366.336</td> <td>   12.739</td> <td> 0.000</td> <td> 2.55e+04</td> <td> 3.48e+04</td>\n",
       "</tr>\n",
       "<tr>\n",
       "  <th>degree</th>      <td>   54.9283</td> <td> 1641.023</td> <td>    0.033</td> <td> 0.973</td> <td>-3172.676</td> <td> 3282.532</td>\n",
       "</tr>\n",
       "<tr>\n",
       "  <th>otherqual</th>   <td> 2476.1368</td> <td> 1571.877</td> <td>    1.575</td> <td> 0.116</td> <td> -615.469</td> <td> 5567.743</td>\n",
       "</tr>\n",
       "<tr>\n",
       "  <th>position</th>    <td> 4209.0353</td> <td>  671.097</td> <td>    6.272</td> <td> 0.000</td> <td> 2889.106</td> <td> 5528.964</td>\n",
       "</tr>\n",
       "<tr>\n",
       "  <th>male</th>        <td>  447.5221</td> <td> 1089.548</td> <td>    0.411</td> <td> 0.682</td> <td>-1695.428</td> <td> 2590.472</td>\n",
       "</tr>\n",
       "<tr>\n",
       "  <th>yearsabs</th>    <td>  -42.4599</td> <td>   25.860</td> <td>   -1.642</td> <td> 0.102</td> <td>  -93.322</td> <td>    8.402</td>\n",
       "</tr>\n",
       "<tr>\n",
       "  <th>Finance</th>     <td>-1739.8831</td> <td>  903.397</td> <td>   -1.926</td> <td> 0.055</td> <td>-3516.705</td> <td>   36.939</td>\n",
       "</tr>\n",
       "<tr>\n",
       "  <th>HR</th>          <td>-7221.3850</td> <td> 1023.817</td> <td>   -7.053</td> <td> 0.000</td> <td>-9235.054</td> <td>-5207.716</td>\n",
       "</tr>\n",
       "<tr>\n",
       "  <th>Marketing</th>   <td>-6133.5652</td> <td>  940.342</td> <td>   -6.523</td> <td> 0.000</td> <td>-7983.053</td> <td>-4284.078</td>\n",
       "</tr>\n",
       "</table>\n",
       "<table class=\"simpletable\">\n",
       "<tr>\n",
       "  <th>Omnibus:</th>       <td>45.019</td> <th>  Durbin-Watson:     </th> <td>   2.187</td>\n",
       "</tr>\n",
       "<tr>\n",
       "  <th>Prob(Omnibus):</th> <td> 0.000</td> <th>  Jarque-Bera (JB):  </th> <td>  84.468</td>\n",
       "</tr>\n",
       "<tr>\n",
       "  <th>Skew:</th>          <td> 0.712</td> <th>  Prob(JB):          </th> <td>4.55e-19</td>\n",
       "</tr>\n",
       "<tr>\n",
       "  <th>Kurtosis:</th>      <td> 4.903</td> <th>  Cond. No.          </th> <td>    254.</td>\n",
       "</tr>\n",
       "</table><br/><br/>Warnings:<br/>[1] Standard Errors assume that the covariance matrix of the errors is correctly specified."
      ],
      "text/plain": [
       "<class 'statsmodels.iolib.summary.Summary'>\n",
       "\"\"\"\n",
       "                            OLS Regression Results                            \n",
       "==============================================================================\n",
       "Dep. Variable:                 salary   R-squared:                       0.778\n",
       "Model:                            OLS   Adj. R-squared:                  0.771\n",
       "Method:                 Least Squares   F-statistic:                     110.4\n",
       "Date:                Thu, 21 May 2020   Prob (F-statistic):          3.65e-106\n",
       "Time:                        10:42:54   Log-Likelihood:                -3624.5\n",
       "No. Observations:                 359   AIC:                             7273.\n",
       "Df Residuals:                     347   BIC:                             7320.\n",
       "Df Model:                          11                                         \n",
       "Covariance Type:            nonrobust                                         \n",
       "===============================================================================\n",
       "                  coef    std err          t      P>|t|      [0.025      0.975]\n",
       "-------------------------------------------------------------------------------\n",
       "const        8270.4429   3211.115      2.576      0.010    1954.744    1.46e+04\n",
       "exprior       473.1718     81.997      5.771      0.000     311.898     634.446\n",
       "yearsworked   557.1337     63.079      8.832      0.000     433.068     681.199\n",
       "market       3.014e+04   2366.336     12.739      0.000    2.55e+04    3.48e+04\n",
       "degree         54.9283   1641.023      0.033      0.973   -3172.676    3282.532\n",
       "otherqual    2476.1368   1571.877      1.575      0.116    -615.469    5567.743\n",
       "position     4209.0353    671.097      6.272      0.000    2889.106    5528.964\n",
       "male          447.5221   1089.548      0.411      0.682   -1695.428    2590.472\n",
       "yearsabs      -42.4599     25.860     -1.642      0.102     -93.322       8.402\n",
       "Finance     -1739.8831    903.397     -1.926      0.055   -3516.705      36.939\n",
       "HR          -7221.3850   1023.817     -7.053      0.000   -9235.054   -5207.716\n",
       "Marketing   -6133.5652    940.342     -6.523      0.000   -7983.053   -4284.078\n",
       "==============================================================================\n",
       "Omnibus:                       45.019   Durbin-Watson:                   2.187\n",
       "Prob(Omnibus):                  0.000   Jarque-Bera (JB):               84.468\n",
       "Skew:                           0.712   Prob(JB):                     4.55e-19\n",
       "Kurtosis:                       4.903   Cond. No.                         254.\n",
       "==============================================================================\n",
       "\n",
       "Warnings:\n",
       "[1] Standard Errors assume that the covariance matrix of the errors is correctly specified.\n",
       "\"\"\""
      ]
     },
     "execution_count": 28,
     "metadata": {},
     "output_type": "execute_result"
    }
   ],
   "source": [
    "# Building Model 2\n",
    "model2 = sm.add_constant(X_train2)\n",
    "model2 = sm.OLS(y_train2,model2).fit()\n",
    "model2.summary()"
   ]
  },
  {
   "cell_type": "markdown",
   "metadata": {},
   "source": [
    "#### ErrorCalculator"
   ]
  },
  {
   "cell_type": "code",
   "execution_count": 29,
   "metadata": {},
   "outputs": [
    {
     "name": "stdout",
     "output_type": "stream",
     "text": [
      "Model1 MSE:\t\t34108524.06673619\n",
      "Model2 MSE:\t\t38860818.14182101\n"
     ]
    }
   ],
   "source": [
    "from ErrorCalculator import ErrorCalculator\n",
    "model1_errors = ErrorCalculator(y_test1, model1.predict(sm.add_constant(X_test1)))\n",
    "model2_errors = ErrorCalculator(y_test2, model2.predict(sm.add_constant(X_test2)))\n",
    "\n",
    "# MSE \n",
    "print(\"Model1 MSE:\\t\\t{}\".format(model1_errors.get_mse()))\n",
    "print(\"Model2 MSE:\\t\\t{}\".format(model2_errors.get_mse()))"
   ]
  },
  {
   "cell_type": "code",
   "execution_count": 30,
   "metadata": {},
   "outputs": [
    {
     "name": "stdout",
     "output_type": "stream",
     "text": [
      "Model1 RMSE:\t\t5840.250342813756\n",
      "Model2 RMSE:\t\t6233.8445715161215\n"
     ]
    }
   ],
   "source": [
    "# RMSE\n",
    "print(\"Model1 RMSE:\\t\\t{}\".format(model1_errors.get_rmse()))\n",
    "print(\"Model2 RMSE:\\t\\t{}\".format(model2_errors.get_rmse()))"
   ]
  },
  {
   "cell_type": "markdown",
   "metadata": {},
   "source": [
    "#### HistogramPlotter and ScatterPlotter visualisations"
   ]
  },
  {
   "cell_type": "code",
   "execution_count": 31,
   "metadata": {},
   "outputs": [
    {
     "data": {
      "image/png": "[encoded data removed]",
      "text/plain": [
       "<Figure size 432x288 with 1 Axes>"
      ]
     },
     "metadata": {},
     "output_type": "display_data"
    },
    {
     "data": {
      "image/png": "[encoded data removed]",
      "text/plain": [
       "<Figure size 432x288 with 1 Axes>"
      ]
     },
     "metadata": {},
     "output_type": "display_data"
    }
   ],
   "source": [
    "from HistogramPlotter import HistogramPlotter\n",
    "from ScatterPlotter import ScatterPlotter\n",
    "#Model 1 plotting graphs\n",
    "model1_plot = HistogramPlotter(y_test1, model1.predict(sm.add_constant(X_test1)))\n",
    "model1_scatter = ScatterPlotter(y_test1, model1.predict(sm.add_constant(X_test1)))\n",
    "\n",
    "# Mode1 Histogram Plot\n",
    "model1_plot.plot()\n",
    "\n",
    "#model1 Scatter Plot\n",
    "model1_scatter.plot()"
   ]
  },
  {
   "cell_type": "code",
   "execution_count": 32,
   "metadata": {},
   "outputs": [
    {
     "data": {
      "image/png": "[encoded data removed]",
      "text/plain": [
       "<Figure size 432x288 with 1 Axes>"
      ]
     },
     "metadata": {},
     "output_type": "display_data"
    },
    {
     "data": {
      "image/png": "[encoded data removed]",
      "text/plain": [
       "<Figure size 432x288 with 1 Axes>"
      ]
     },
     "metadata": {},
     "output_type": "display_data"
    }
   ],
   "source": [
    "# Model 2 plotting graphs\n",
    "model2_plot = HistogramPlotter(y_test2, model2.predict(sm.add_constant(X_test2)))\n",
    "model2_scatter = ScatterPlotter(y_test2, model2.predict(sm.add_constant(X_test2)))\n",
    "\n",
    "# Model 2 Histogram Plot\n",
    "model2_plot.plot()\n",
    "\n",
    "# Model 2 Scatter Plot\n",
    "model2_scatter.plot()"
   ]
  },
  {
   "cell_type": "code",
   "execution_count": 33,
   "metadata": {},
   "outputs": [],
   "source": [
    "# Calculations for Standard Residuals.\n",
    "influence = model1.get_influence()\n",
    "leverage = influence.hat_matrix_diag\n",
    "cooks_d = influence.cooks_distance\n",
    "standardized_residuals = influence.resid_studentized_internal\n",
    "studentized_residuals = influence.resid_studentized_external\n",
    "studentized_residuals = pd.DataFrame(studentized_residuals)"
   ]
  },
  {
   "cell_type": "code",
   "execution_count": null,
   "metadata": {},
   "outputs": [],
   "source": []
  }
 ],
 "metadata": {
  "kernelspec": {
   "display_name": "Python 3",
   "language": "python",
   "name": "python3"
  },
  "language_info": {
   "codemirror_mode": {
    "name": "ipython",
    "version": 3
   },
   "file_extension": ".py",
   "mimetype": "text/x-python",
   "name": "python",
   "nbconvert_exporter": "python",
   "pygments_lexer": "ipython3",
   "version": "3.7.6"
  }
 },
 "nbformat": 4,
 "nbformat_minor": 2
}
